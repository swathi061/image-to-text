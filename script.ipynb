{
 "cells": [
  {
   "cell_type": "code",
   "execution_count": 1,
   "metadata": {},
   "outputs": [],
   "source": [
    "import fitz  # PyMuPDF\n",
    "from pdf2image import convert_from_path\n",
    "import os\n",
    "import pytesseract\n",
    "from PIL import Image\n",
    "from docx import Document"
   ]
  },
  {
   "cell_type": "code",
   "execution_count": 2,
   "metadata": {},
   "outputs": [
    {
     "name": "stdout",
     "output_type": "stream",
     "text": [
      "Text saved to extracted_text.docx\n"
     ]
    }
   ],
   "source": [
    "def extract_text_from_pdf(pdf_path):\n",
    "    \"\"\"Extract text from a PDF file.\"\"\"\n",
    "    text = \"\"\n",
    "    with fitz.open(pdf_path) as doc:\n",
    "        for page in doc:\n",
    "            text += page.get_text(\"text\") + \"\\n\"\n",
    "    return text\n",
    "\n",
    "def extract_images_from_pdf(pdf_path, output_folder=\"images\"):\n",
    "    \"\"\"Extract images from a PDF file and save them as separate image files.\"\"\"\n",
    "    if not os.path.exists(output_folder):\n",
    "        os.makedirs(output_folder)\n",
    "    \n",
    "    images = convert_from_path(pdf_path,500, poppler_path=r\"D:\\poppler-24.08.0\\Library\\bin\")\n",
    "    image_paths = []\n",
    "    \n",
    "    for i, image in enumerate(images):\n",
    "        image_path = os.path.join(output_folder, f\"page_{i+1}.png\")\n",
    "        image.save(image_path, \"PNG\")\n",
    "        image_paths.append(image_path)\n",
    "    \n",
    "    return image_paths\n",
    "\n",
    "def preprocess_image(image_path):\n",
    "    image = Image.open(image_path).convert(\"L\")  # Convert to grayscale\n",
    "    image = image.point(lambda x: 0 if x < 140 else 255)  # Thresholding\n",
    "    return image\n",
    "\n",
    "def extract_text_from_image(image_path):\n",
    "    \"\"\"Extract text from an image using OCR.\"\"\"\n",
    "    image = Image.open(image_path)\n",
    "    pytesseract.pytesseract.tesseract_cmd = r'D:\\\\tesseract\\\\tesseract.exe'\n",
    "    image = preprocess_image(image_path)\n",
    "    custom_config = r'--oem 3 --psm 6'  # OCR Engine Mode 3, Page Segmentation Mode 6\n",
    "    return pytesseract.image_to_string(image, config=custom_config, lang=\"eng\")\n",
    "\n",
    "def save_text_to_word(text, output_path=\"extracted_text.docx\"):\n",
    "    \"\"\"Save extracted text to a Word file.\"\"\"\n",
    "    doc = Document()\n",
    "    doc.add_paragraph(text)\n",
    "    doc.save(output_path)\n",
    "    print(f\"Text saved to {output_path}\")\n",
    "    \n",
    "def main():\n",
    "    pdf_path = \"pages.pdf\"  # Replace with your PDF file path\n",
    "    \n",
    "    text = extract_text_from_pdf(pdf_path)\n",
    "    \n",
    "    image_paths = extract_images_from_pdf(pdf_path)\n",
    "    \n",
    "    for image_path in image_paths:\n",
    "        extracted_text = extract_text_from_image(image_path)\n",
    "        text += f\"\\nExtracted Text from {image_path}:\\n{extracted_text}\\n\"\n",
    "    \n",
    "    save_text_to_word(text)\n",
    "\n",
    "if __name__ == \"__main__\":\n",
    "    main()\n"
   ]
  },
  {
   "cell_type": "code",
   "execution_count": 3,
   "metadata": {},
   "outputs": [
    {
     "data": {
      "text/plain": [
       "['.git', 'images', 'page.pdf', 'README.md', 'script.ipynb']"
      ]
     },
     "execution_count": 3,
     "metadata": {},
     "output_type": "execute_result"
    }
   ],
   "source": [
    "os.listdir()"
   ]
  }
 ],
 "metadata": {
  "kernelspec": {
   "display_name": "Python 3",
   "language": "python",
   "name": "python3"
  },
  "language_info": {
   "codemirror_mode": {
    "name": "ipython",
    "version": 3
   },
   "file_extension": ".py",
   "mimetype": "text/x-python",
   "name": "python",
   "nbconvert_exporter": "python",
   "pygments_lexer": "ipython3",
   "version": "3.7.0"
  },
  "orig_nbformat": 4
 },
 "nbformat": 4,
 "nbformat_minor": 2
}
